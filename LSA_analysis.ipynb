{
 "cells": [
  {
   "cell_type": "markdown",
   "metadata": {},
   "source": [
    "Find how many dimensions to keep from TF-IDF matrix for 95 % of energy"
   ]
  },
  {
   "cell_type": "code",
   "execution_count": 1,
   "metadata": {},
   "outputs": [],
   "source": [
    "from LSA import LSA\n",
    "from scipy.sparse import csr_matrix\n",
    "from sklearn.decomposition import TruncatedSVD\n",
    "import numpy as np"
   ]
  },
  {
   "cell_type": "code",
   "execution_count": 3,
   "metadata": {},
   "outputs": [],
   "source": [
    "lsi_obj = LSA.load_object('lsa.pkl')"
   ]
  },
  {
   "cell_type": "code",
   "execution_count": null,
   "metadata": {},
   "outputs": [],
   "source": [
    "import numpy as np\n",
    "from scipy.sparse import csr_matrix\n",
    "from sklearn.decomposition import TruncatedSVD\n",
    "\n",
    "# Create a sparse matrix (Example)\n",
    "def SVD_analysis(A):\n",
    "    # Compute SVD with enough components initially\n",
    "    n_components = 1000  # Look up to 1000 components considering after that is trash and would not affect the total energy much\n",
    "    svd = TruncatedSVD(n_components=n_components)\n",
    "    S = svd.fit(A).singular_values_\n",
    "\n",
    "    # Compute total energy\n",
    "    total_energy = np.sum(S**2)\n",
    "\n",
    "    # Find the number of singular values needed to retain 98% energy\n",
    "    energy_threshold = 0.95 * total_energy\n",
    "    cumulative_energy = np.cumsum(S**2)\n",
    "    k = np.searchsorted(cumulative_energy, energy_threshold) + 1  # Smallest k retaining 95% energy\n",
    "\n",
    "    print(f\"Number of singular values to retain 95% energy: {k}\")\n",
    "\n",
    "    return k"
   ]
  },
  {
   "cell_type": "code",
   "execution_count": 5,
   "metadata": {},
   "outputs": [
    {
     "name": "stdout",
     "output_type": "stream",
     "text": [
      "Number of singular values to retain 95% energy: 3\n"
     ]
    }
   ],
   "source": [
    "k = SVD_analysis(lsi_obj.tf_idf_matrix)"
   ]
  },
  {
   "cell_type": "markdown",
   "metadata": {},
   "source": [
    "We ignore the error and proceed with life using 779 components"
   ]
  }
 ],
 "metadata": {
  "kernelspec": {
   "display_name": "venv",
   "language": "python",
   "name": "python3"
  },
  "language_info": {
   "codemirror_mode": {
    "name": "ipython",
    "version": 3
   },
   "file_extension": ".py",
   "mimetype": "text/x-python",
   "name": "python",
   "nbconvert_exporter": "python",
   "pygments_lexer": "ipython3",
   "version": "3.12.1"
  }
 },
 "nbformat": 4,
 "nbformat_minor": 2
}
