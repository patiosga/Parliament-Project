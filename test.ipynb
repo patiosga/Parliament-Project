{
 "cells": [
  {
   "cell_type": "code",
   "execution_count": 9,
   "metadata": {},
   "outputs": [
    {
     "name": "stdout",
     "output_type": "stream",
     "text": [
      "c:\\Users\\giorg\\Parliament Project\n"
     ]
    }
   ],
   "source": [
    "import os\n",
    "import sys\n",
    "\n",
    "print(os.getcwd())"
   ]
  },
  {
   "cell_type": "code",
   "execution_count": 2,
   "metadata": {},
   "outputs": [],
   "source": [
    "import numpy as np\n",
    "import pandas as pd\n",
    "from preprocess_speech import preprocess_speech\n",
    "from LSA import LSA\n",
    "from load_file import load_processed_file\n",
    "import pickle\n",
    "from scipy.sparse.linalg import norm"
   ]
  },
  {
   "cell_type": "code",
   "execution_count": 2,
   "metadata": {},
   "outputs": [],
   "source": [
    "# load inverted index pickle file\n",
    "with open('inverted_index.pkl', 'rb') as f:\n",
    "    inverted_index = pickle.load(f)"
   ]
  },
  {
   "cell_type": "code",
   "execution_count": 5,
   "metadata": {},
   "outputs": [],
   "source": [
    "ids = np.load('processed_ids.npy')"
   ]
  },
  {
   "cell_type": "code",
   "execution_count": 3,
   "metadata": {},
   "outputs": [],
   "source": [
    "df = pd.read_csv('data.csv')"
   ]
  },
  {
   "cell_type": "code",
   "execution_count": 10,
   "metadata": {},
   "outputs": [
    {
     "data": {
      "text/html": [
       "<div>\n",
       "<style scoped>\n",
       "    .dataframe tbody tr th:only-of-type {\n",
       "        vertical-align: middle;\n",
       "    }\n",
       "\n",
       "    .dataframe tbody tr th {\n",
       "        vertical-align: top;\n",
       "    }\n",
       "\n",
       "    .dataframe thead th {\n",
       "        text-align: right;\n",
       "    }\n",
       "</style>\n",
       "<table border=\"1\" class=\"dataframe\">\n",
       "  <thead>\n",
       "    <tr style=\"text-align: right;\">\n",
       "      <th></th>\n",
       "      <th>member_name</th>\n",
       "      <th>sitting_date</th>\n",
       "      <th>political_party</th>\n",
       "      <th>speech</th>\n",
       "      <th>id</th>\n",
       "    </tr>\n",
       "  </thead>\n",
       "  <tbody>\n",
       "    <tr>\n",
       "      <th>0</th>\n",
       "      <td>αργυρης ιωαννη ευαγγελος</td>\n",
       "      <td>10/01/2012</td>\n",
       "      <td>πανελληνιο σοσιαλιστικο κινημα</td>\n",
       "      <td>Κυρίες και κύριοι συνάδελφοι, θα ήθελα κατ’ α...</td>\n",
       "      <td>841327</td>\n",
       "    </tr>\n",
       "    <tr>\n",
       "      <th>1</th>\n",
       "      <td>NaN</td>\n",
       "      <td>10/01/2012</td>\n",
       "      <td>λαικος ορθοδοξος συναγερμος</td>\n",
       "      <td>Κυρίες και κύριοι συνάδελφοι, πριν εισέλθουμε...</td>\n",
       "      <td>841328</td>\n",
       "    </tr>\n",
       "    <tr>\n",
       "      <th>2</th>\n",
       "      <td>αργυρης ιωαννη ευαγγελος</td>\n",
       "      <td>10/01/2012</td>\n",
       "      <td>πανελληνιο σοσιαλιστικο κινημα</td>\n",
       "      <td>Κυρίες και κύριοι συνάδελφοι, εισερχόμαστε στ...</td>\n",
       "      <td>841329</td>\n",
       "    </tr>\n",
       "    <tr>\n",
       "      <th>3</th>\n",
       "      <td>σαλαγιαννης βασιλειου νικολαος</td>\n",
       "      <td>10/01/2012</td>\n",
       "      <td>πανελληνιο σοσιαλιστικο κινημα</td>\n",
       "      <td>Κύριε Πρόεδρε, κυρίες και κύριοι συνάδελφοι, ...</td>\n",
       "      <td>841330</td>\n",
       "    </tr>\n",
       "    <tr>\n",
       "      <th>4</th>\n",
       "      <td>αργυρης ιωαννη ευαγγελος</td>\n",
       "      <td>10/01/2012</td>\n",
       "      <td>πανελληνιο σοσιαλιστικο κινημα</td>\n",
       "      <td>Ευχαριστούμε τον κ. Σαλαγιάννη.Ο κοινοβουλευτ...</td>\n",
       "      <td>841331</td>\n",
       "    </tr>\n",
       "  </tbody>\n",
       "</table>\n",
       "</div>"
      ],
      "text/plain": [
       "                      member_name sitting_date  \\\n",
       "0        αργυρης ιωαννη ευαγγελος   10/01/2012   \n",
       "1                             NaN   10/01/2012   \n",
       "2        αργυρης ιωαννη ευαγγελος   10/01/2012   \n",
       "3  σαλαγιαννης βασιλειου νικολαος   10/01/2012   \n",
       "4        αργυρης ιωαννη ευαγγελος   10/01/2012   \n",
       "\n",
       "                  political_party  \\\n",
       "0  πανελληνιο σοσιαλιστικο κινημα   \n",
       "1     λαικος ορθοδοξος συναγερμος   \n",
       "2  πανελληνιο σοσιαλιστικο κινημα   \n",
       "3  πανελληνιο σοσιαλιστικο κινημα   \n",
       "4  πανελληνιο σοσιαλιστικο κινημα   \n",
       "\n",
       "                                              speech      id  \n",
       "0   Κυρίες και κύριοι συνάδελφοι, θα ήθελα κατ’ α...  841327  \n",
       "1   Κυρίες και κύριοι συνάδελφοι, πριν εισέλθουμε...  841328  \n",
       "2   Κυρίες και κύριοι συνάδελφοι, εισερχόμαστε στ...  841329  \n",
       "3   Κύριε Πρόεδρε, κυρίες και κύριοι συνάδελφοι, ...  841330  \n",
       "4   Ευχαριστούμε τον κ. Σαλαγιάννη.Ο κοινοβουλευτ...  841331  "
      ]
     },
     "execution_count": 10,
     "metadata": {},
     "output_type": "execute_result"
    }
   ],
   "source": [
    "df.head()"
   ]
  },
  {
   "cell_type": "code",
   "execution_count": 9,
   "metadata": {},
   "outputs": [
    {
     "name": "stdout",
     "output_type": "stream",
     "text": [
      "845500\n"
     ]
    }
   ],
   "source": [
    "id = int(ids[3904])\n",
    "print(id)\n"
   ]
  },
  {
   "cell_type": "code",
   "execution_count": 11,
   "metadata": {},
   "outputs": [],
   "source": [
    "df.set_index(\"id\", inplace=True)"
   ]
  },
  {
   "cell_type": "code",
   "execution_count": 12,
   "metadata": {},
   "outputs": [
    {
     "data": {
      "text/plain": [
       "member_name        τασουλας αναστασιου κωνσταντινος\n",
       "sitting_date                             02/02/2012\n",
       "political_party                      νεα δημοκρατια\n",
       "speech                                Σαν το ΠΑΣΟΚ.\n",
       "Name: 845500, dtype: object"
      ]
     },
     "execution_count": 12,
     "metadata": {},
     "output_type": "execute_result"
    }
   ],
   "source": [
    "df.loc[id]"
   ]
  },
  {
   "cell_type": "code",
   "execution_count": null,
   "metadata": {},
   "outputs": [],
   "source": []
  }
 ],
 "metadata": {
  "kernelspec": {
   "display_name": "venv",
   "language": "python",
   "name": "python3"
  },
  "language_info": {
   "codemirror_mode": {
    "name": "ipython",
    "version": 3
   },
   "file_extension": ".py",
   "mimetype": "text/x-python",
   "name": "python",
   "nbconvert_exporter": "python",
   "pygments_lexer": "ipython3",
   "version": "3.12.1"
  }
 },
 "nbformat": 4,
 "nbformat_minor": 2
}
